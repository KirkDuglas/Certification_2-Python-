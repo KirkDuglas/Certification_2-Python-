{
  "nbformat": 4,
  "nbformat_minor": 0,
  "metadata": {
    "colab": {
      "provenance": [],
      "authorship_tag": "ABX9TyNdTI/Bbf1lz8ao+TwdJrea",
      "include_colab_link": true
    },
    "kernelspec": {
      "name": "python3",
      "display_name": "Python 3"
    },
    "language_info": {
      "name": "python"
    }
  },
  "cells": [
    {
      "cell_type": "markdown",
      "metadata": {
        "id": "view-in-github",
        "colab_type": "text"
      },
      "source": [
        "<a href=\"https://colab.research.google.com/github/KirkDuglas/Certification_2-Python-/blob/main/Untitled0_ipynb.ipynb\" target=\"_parent\"><img src=\"https://colab.research.google.com/assets/colab-badge.svg\" alt=\"Open In Colab\"/></a>"
      ]
    },
    {
      "cell_type": "code",
      "execution_count": null,
      "metadata": {
        "colab": {
          "base_uri": "https://localhost:8080/"
        },
        "id": "4HhPf0dTg3bF",
        "outputId": "150bfd49-86ed-4671-cfe9-fee4aff6754c"
      },
      "outputs": [
        {
          "output_type": "stream",
          "name": "stdout",
          "text": [
            "      res\n",
            "0   robot\n",
            "1   human\n",
            "2   robot\n",
            "3   human\n",
            "4   human\n",
            "5   human\n",
            "6   human\n",
            "7   human\n",
            "8   robot\n",
            "9   robot\n",
            "10  human\n",
            "11  robot\n",
            "12  robot\n",
            "13  robot\n",
            "14  robot\n",
            "15  human\n",
            "16  robot\n",
            "17  human\n",
            "18  human\n",
            "19  robot\n",
            "\n",
            "    human  robot\n",
            "0       0      1\n",
            "1       1      0\n",
            "2       0      1\n",
            "3       1      0\n",
            "4       1      0\n",
            "5       1      0\n",
            "6       1      0\n",
            "7       1      0\n",
            "8       0      1\n",
            "9       0      1\n",
            "10      1      0\n",
            "11      0      1\n",
            "12      0      1\n",
            "13      0      1\n",
            "14      0      1\n",
            "15      1      0\n",
            "16      0      1\n",
            "17      1      0\n",
            "18      1      0\n",
            "19      0      1\n"
          ]
        }
      ],
      "source": [
        "import pandas as pd\n",
        "import numpy as np\n",
        "import random\n",
        "#Импортируем библотеки\n",
        "lst = ['robot'] * 10\n",
        "lst += ['human'] * 10\n",
        "random.shuffle(lst)\n",
        "data = pd.DataFrame({'res': lst})\n",
        "print(data)\n",
        "\n",
        "print('')\n",
        "\n",
        "data['tmp'] = 1\n",
        "data.set_index([data.index, 'res'], inplace=True)\n",
        "data = data.unstack(level=-1, fill_value = 0).astype(int)\n",
        "data.columns = data.columns.droplevel()\n",
        "data.columns.name = None\n",
        "print(data)\n"
      ]
    }
  ]
}